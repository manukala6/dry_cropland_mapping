{
 "cells": [
  {
   "cell_type": "code",
   "execution_count": 3,
   "id": "cfacc68c",
   "metadata": {},
   "outputs": [],
   "source": [
    "import pandas as pd\n",
    "import geopandas as gpd"
   ]
  },
  {
   "cell_type": "code",
   "execution_count": 4,
   "id": "2cfbeae7",
   "metadata": {},
   "outputs": [],
   "source": [
    "s1_df = pd.read_csv(\"../data/Sentinel1.csv\")\n",
    "s2_df = pd.read_csv(\"../data/Sentinel2.csv\")"
   ]
  },
  {
   "cell_type": "code",
   "execution_count": 5,
   "id": "ad8a637c",
   "metadata": {},
   "outputs": [
    {
     "data": {
      "application/vnd.microsoft.datawrangler.viewer.v0+json": {
       "columns": [
        {
         "name": "index",
         "rawType": "int64",
         "type": "integer"
        },
        {
         "name": "julian_date",
         "rawType": "int64",
         "type": "integer"
        }
       ],
       "ref": "f7814cc3-59a4-4fa0-8232-9bf3fcae2850",
       "rows": [
        [
         "0",
         "913"
        ],
        [
         "1",
         "913"
        ],
        [
         "2",
         "913"
        ],
        [
         "3",
         "913"
        ],
        [
         "4",
         "913"
        ],
        [
         "5",
         "913"
        ],
        [
         "6",
         "913"
        ],
        [
         "7",
         "913"
        ],
        [
         "8",
         "913"
        ],
        [
         "9",
         "913"
        ],
        [
         "10",
         "913"
        ],
        [
         "11",
         "913"
        ],
        [
         "12",
         "913"
        ],
        [
         "13",
         "913"
        ],
        [
         "14",
         "913"
        ],
        [
         "15",
         "913"
        ],
        [
         "16",
         "913"
        ],
        [
         "17",
         "913"
        ],
        [
         "18",
         "913"
        ],
        [
         "19",
         "913"
        ],
        [
         "20",
         "913"
        ],
        [
         "21",
         "913"
        ],
        [
         "22",
         "913"
        ],
        [
         "23",
         "913"
        ],
        [
         "24",
         "913"
        ],
        [
         "25",
         "913"
        ],
        [
         "26",
         "913"
        ],
        [
         "27",
         "913"
        ],
        [
         "28",
         "913"
        ],
        [
         "29",
         "913"
        ],
        [
         "30",
         "913"
        ],
        [
         "31",
         "913"
        ],
        [
         "32",
         "913"
        ],
        [
         "33",
         "913"
        ],
        [
         "34",
         "913"
        ],
        [
         "35",
         "913"
        ],
        [
         "36",
         "913"
        ],
        [
         "37",
         "913"
        ],
        [
         "38",
         "913"
        ],
        [
         "39",
         "913"
        ],
        [
         "40",
         "913"
        ],
        [
         "41",
         "913"
        ],
        [
         "42",
         "913"
        ],
        [
         "43",
         "913"
        ],
        [
         "44",
         "913"
        ],
        [
         "45",
         "913"
        ],
        [
         "46",
         "913"
        ],
        [
         "47",
         "913"
        ],
        [
         "48",
         "913"
        ],
        [
         "49",
         "913"
        ]
       ],
       "shape": {
        "columns": 1,
        "rows": 1752570
       }
      },
      "text/plain": [
       "0           913\n",
       "1           913\n",
       "2           913\n",
       "3           913\n",
       "4           913\n",
       "           ... \n",
       "1752565    2008\n",
       "1752566    2008\n",
       "1752567    2008\n",
       "1752568    2008\n",
       "1752569    2008\n",
       "Name: julian_date, Length: 1752570, dtype: int64"
      ]
     },
     "execution_count": 5,
     "metadata": {},
     "output_type": "execute_result"
    }
   ],
   "source": [
    "# Convert 'date' column to julian dates\n",
    "s1_df['date'] = pd.to_datetime(s1_df['date'])\n",
    "reference_date = pd.to_datetime('2020-01-01')\n",
    "s1_df['julian_date'] = (s1_df['date'] - reference_date).dt.days + 1\n",
    "\n",
    "s1_df['julian_date']"
   ]
  },
  {
   "cell_type": "code",
   "execution_count": 6,
   "id": "95f2565d",
   "metadata": {},
   "outputs": [],
   "source": [
    "s1_df = s1_df.drop(['date', 'polarization', 'orbit', 'translated_lat', 'translated_lon'], axis=1)\n",
    "#s1_df.head()"
   ]
  },
  {
   "cell_type": "code",
   "execution_count": 7,
   "id": "3b267cf5",
   "metadata": {},
   "outputs": [],
   "source": [
    "#s2_df.head()"
   ]
  },
  {
   "cell_type": "code",
   "execution_count": 8,
   "id": "8fc5ff42",
   "metadata": {},
   "outputs": [
    {
     "data": {
      "application/vnd.microsoft.datawrangler.viewer.v0+json": {
       "columns": [
        {
         "name": "index",
         "rawType": "int64",
         "type": "integer"
        },
        {
         "name": "julian_date",
         "rawType": "int64",
         "type": "integer"
        }
       ],
       "ref": "cbaaa078-79cc-47c6-92fa-0d33b1aeae29",
       "rows": [
        [
         "0",
         "552"
        ],
        [
         "1",
         "552"
        ],
        [
         "2",
         "552"
        ],
        [
         "3",
         "552"
        ],
        [
         "4",
         "552"
        ],
        [
         "5",
         "552"
        ],
        [
         "6",
         "552"
        ],
        [
         "7",
         "552"
        ],
        [
         "8",
         "552"
        ],
        [
         "9",
         "552"
        ],
        [
         "10",
         "552"
        ],
        [
         "11",
         "552"
        ],
        [
         "12",
         "552"
        ],
        [
         "13",
         "552"
        ],
        [
         "14",
         "552"
        ],
        [
         "15",
         "552"
        ],
        [
         "16",
         "552"
        ],
        [
         "17",
         "552"
        ],
        [
         "18",
         "552"
        ],
        [
         "19",
         "552"
        ],
        [
         "20",
         "552"
        ],
        [
         "21",
         "552"
        ],
        [
         "22",
         "552"
        ],
        [
         "23",
         "552"
        ],
        [
         "24",
         "552"
        ],
        [
         "25",
         "552"
        ],
        [
         "26",
         "552"
        ],
        [
         "27",
         "552"
        ],
        [
         "28",
         "552"
        ],
        [
         "29",
         "552"
        ],
        [
         "30",
         "552"
        ],
        [
         "31",
         "552"
        ],
        [
         "32",
         "552"
        ],
        [
         "33",
         "552"
        ],
        [
         "34",
         "552"
        ],
        [
         "35",
         "552"
        ],
        [
         "36",
         "552"
        ],
        [
         "37",
         "552"
        ],
        [
         "38",
         "552"
        ],
        [
         "39",
         "552"
        ],
        [
         "40",
         "552"
        ],
        [
         "41",
         "552"
        ],
        [
         "42",
         "552"
        ],
        [
         "43",
         "552"
        ],
        [
         "44",
         "552"
        ],
        [
         "45",
         "552"
        ],
        [
         "46",
         "552"
        ],
        [
         "47",
         "552"
        ],
        [
         "48",
         "552"
        ],
        [
         "49",
         "552"
        ]
       ],
       "shape": {
        "columns": 1,
        "rows": 5610393
       }
      },
      "text/plain": [
       "0           552\n",
       "1           552\n",
       "2           552\n",
       "3           552\n",
       "4           552\n",
       "           ... \n",
       "5610388    1276\n",
       "5610389    1276\n",
       "5610390    1276\n",
       "5610391    1276\n",
       "5610392    1276\n",
       "Name: julian_date, Length: 5610393, dtype: int64"
      ]
     },
     "execution_count": 8,
     "metadata": {},
     "output_type": "execute_result"
    }
   ],
   "source": [
    "# Convert 'date' column to julian dates\n",
    "s2_df['date'] = pd.to_datetime(s2_df['date'])\n",
    "reference_date = pd.to_datetime('2020-01-01')\n",
    "s2_df['julian_date'] = (s2_df['date'] - reference_date).dt.days + 1\n",
    "\n",
    "s2_df['julian_date']"
   ]
  },
  {
   "cell_type": "code",
   "execution_count": 9,
   "id": "07a0753f",
   "metadata": {},
   "outputs": [],
   "source": [
    "s2_df = s2_df.drop(['date', 'cloud_pct', 'translated_lat', 'translated_lon'], axis=1)\n",
    "#s2_df.head()"
   ]
  },
  {
   "cell_type": "code",
   "execution_count": 10,
   "id": "77b6bcab",
   "metadata": {},
   "outputs": [
    {
     "data": {
      "text/plain": [
       "(dtype('O'), dtype('O'))"
      ]
     },
     "execution_count": 10,
     "metadata": {},
     "output_type": "execute_result"
    }
   ],
   "source": [
    "s1_df['ID'].dtype, s2_df['ID'].dtype"
   ]
  },
  {
   "cell_type": "code",
   "execution_count": 11,
   "id": "bc1d398b",
   "metadata": {},
   "outputs": [],
   "source": [
    "s1_df['ID'] = s1_df['ID'].astype(str)\n",
    "s2_df['ID'] = s2_df['ID'].astype(str)\n",
    "\n",
    "feature_df = s1_df.merge(s2_df, on=['ID', 'julian_date'], how='inner')"
   ]
  },
  {
   "cell_type": "code",
   "execution_count": 13,
   "id": "ba59bf1e",
   "metadata": {},
   "outputs": [],
   "source": [
    "fergana_target_df = gpd.read_file(\"../data/Train/Fergana_training_samples.shp\")\n",
    "orenburg_target_df = gpd.read_file(\"../data/Train/Orenburg_training_samples.shp\")"
   ]
  },
  {
   "cell_type": "code",
   "execution_count": null,
   "id": "33e45d38",
   "metadata": {},
   "outputs": [],
   "source": []
  }
 ],
 "metadata": {
  "kernelspec": {
   "display_name": "geodask",
   "language": "python",
   "name": "python3"
  },
  "language_info": {
   "codemirror_mode": {
    "name": "ipython",
    "version": 3
   },
   "file_extension": ".py",
   "mimetype": "text/x-python",
   "name": "python",
   "nbconvert_exporter": "python",
   "pygments_lexer": "ipython3",
   "version": "3.13.5"
  }
 },
 "nbformat": 4,
 "nbformat_minor": 5
}
